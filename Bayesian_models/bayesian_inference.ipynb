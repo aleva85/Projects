{
 "cells": [
  {
   "cell_type": "markdown",
   "metadata": {},
   "source": [
    "# Bayesian Inference\n",
    "\n",
    "We will use two scenarios to walk through the steps of a data science project relying on bayesian inference.\n",
    "\n",
    "**Scenario A**: our ecommerce shop sends an ad to its clients. Based on the few data collected, what can we say about the convergence rate of the add?\n",
    "\n",
    "**Scenario B**: our ecommerce shop sends an ad to some clients clients, and another one to other clients. Based on the few data collected, which add seems to do better? \n",
    "\n",
    "### Ingredients\n",
    "\n",
    "Bayesian data analysis needs:\n",
    "- data: in this case the number of customers signing up after seeing the proposed add.\n",
    "- a generative model: in this case the only parameter that the model needs is the sign up probability, which can be modeled as a binomial distribution.\n",
    "- prior information: to infer the parameter from the data, we need to consider a range of possible parameter values. In this case, the only prior information we have is that the probability of signup can range between 0 and 1, so a natural choice is to represent prior information with a uniform distribution\n",
    "\n",
    "### Recipe\n",
    "\n",
    "A typical bayesian inference approach consists in:\n",
    "1. run a large number of simulations where a possible parameter value is drawn from the prior and used to simulate the process that generated the original dataset\n",
    "2. answer the question \"Which parameter value gave me simulated data that were very similar to the original data?\"\n",
    "\n"
   ]
  },
  {
   "cell_type": "code",
   "execution_count": 1,
   "metadata": {},
   "outputs": [
    {
     "data": {
      "text/plain": [
       "<Figure size 640x480 with 1 Axes>"
      ]
     },
     "metadata": {},
     "output_type": "display_data"
    }
   ],
   "source": [
    "### SCENARIO A\n",
    "\n",
    "# Import libraries\n",
    "import pandas as pd\n",
    "import numpy as np\n",
    "import matplotlib.pyplot as plt\n",
    "\n",
    "# Number of random draws from the prior\n",
    "n_draws = 100000\n",
    "\n",
    "# Ingredient 1: we use a uniform prior and sample n_draws draws from a uniform prior \n",
    "prior = pd.Series(np.random.uniform(0, 1, size = n_draws ))\n",
    "ax = prior.hist(weights = np.ones_like(prior)/float(len(prior)))\n",
    "ax.set_xlabel('Prior on the rate of signups')\n",
    "ax.set_ylabel('Probability')\n",
    "plt.show()"
   ]
  },
  {
   "cell_type": "code",
   "execution_count": 2,
   "metadata": {},
   "outputs": [
    {
     "name": "stdout",
     "output_type": "stream",
     "text": [
      "3\n",
      "4\n",
      "3\n"
     ]
    }
   ],
   "source": [
    "# Ingredient 2: Let's now define the generative model\n",
    "def generative_model(parameters):\n",
    "    signups = np.random.binomial(parameters[0], parameters[1]) # returns number of successes\n",
    "    return(signups)\n",
    "\n",
    "# for instance, let's simulate 3 times sending the ad to 20 people, with a signup rate of 0.1\n",
    "for i in np.arange(3):\n",
    "    print(generative_model([20, 0.1]))"
   ]
  },
  {
   "cell_type": "code",
   "execution_count": 3,
   "metadata": {},
   "outputs": [
    {
     "data": {
      "image/png": "[encoded data removed]",
      "text/plain": [
       "<Figure size 432x288 with 1 Axes>"
      ]
     },
     "metadata": {
      "needs_background": "light"
     },
     "output_type": "display_data"
    }
   ],
   "source": [
    "# Ingredient 3: the actual data\n",
    "N_participants = 20\n",
    "N_signups = 4\n",
    "\n",
    "# Now we are ready to simulate the testing campaing as much as we want!\n",
    "sim_data = list()\n",
    "for p in prior:\n",
    "    sim_data.append(generative_model([ N_participants, p]))\n",
    "                    \n",
    "# Next, we keep only the draws (and associated parameter) that match the observed data\n",
    "posterior = pd.Series(\n",
    "    [prior[idx] for idx in range(len(sim_data)) if sim_data[idx] == N_signups])\n",
    "\n",
    "# eyeball the posterior\n",
    "ax = posterior.hist(weights = np.ones_like(posterior)/float(len(posterior)))\n",
    "ax.set_xlabel('Posterior on the rate of signups')\n",
    "ax.set_ylabel('Probability')\n",
    "plt.show()"
   ]
  },
  {
   "cell_type": "code",
   "execution_count": 4,
   "metadata": {},
   "outputs": [
    {
     "name": "stdout",
     "output_type": "stream",
     "text": [
      "Number of draws used to create the posterior: 4755\n",
      "Posterior median: 0.217, Posterior quantile interval: 0.078-0.416\n"
     ]
    }
   ],
   "source": [
    "# it is common sense to check that we got enought draws left after the filtering. \n",
    "# it appears a safe number here could be something like >1000.\n",
    "print('Number of draws used to create the posterior: %.0f' % len(posterior))\n",
    "\n",
    "# Some summary statistics\n",
    "print('Posterior median: %.3f, Posterior quantile interval: %.3f-%.3f' % \n",
    "      (posterior.median(), posterior.quantile(.025), posterior.quantile(.975)))\n"
   ]
  },
  {
   "cell_type": "markdown",
   "metadata": {},
   "source": [
    "### Comparing to a baseline\n",
    "Imagine now, that we want to know if this ad has a signup rate higher than 15%.\n",
    "This can be done very simply by integrating over the posterior from 0.15 to 1:"
   ]
  },
  {
   "cell_type": "code",
   "execution_count": 5,
   "metadata": {},
   "outputs": [
    {
     "name": "stdout",
     "output_type": "stream",
     "text": [
      "Based on the collected date, we estiamte a 79.81%  probability that the ad has a conversion rate higher than 15%.\n"
     ]
    }
   ],
   "source": [
    "p_signup_rate_higer_than_15pc = len(posterior[posterior > 0.15]) / len(posterior)\n",
    "print('Based on the collected date, we estiamte a %.2f%%  probability that the ad has a conversion rate higher than 15%%.'  % (100 * p_signup_rate_higer_than_15pc))"
   ]
  },
  {
   "cell_type": "markdown",
   "metadata": {},
   "source": [
    "### Making predictions\n",
    "Imagine now, that we would like to estimate how the ad would perform if it were presented to 100 people. \n",
    "Again, the answer will come in the form of a probability distribution.\n"
   ]
  },
  {
   "cell_type": "code",
   "execution_count": 6,
   "metadata": {},
   "outputs": [
    {
     "data": {
      "image/png": "[encoded data removed]",
      "text/plain": [
       "<Figure size 432x288 with 1 Axes>"
      ]
     },
     "metadata": {
      "needs_background": "light"
     },
     "output_type": "display_data"
    },
    {
     "name": "stdout",
     "output_type": "stream",
     "text": [
      "Sign-up 95% quantile interval 7-43\n"
     ]
    }
   ],
   "source": [
    "predicted_signups = pd.Series([generative_model([100, p]) for p in posterior])\n",
    "\n",
    "ax = predicted_signups.hist(weights = np.ones_like(predicted_signups)/float(len(predicted_signups)))\n",
    "ax.set_xlabel('Simulated rate of signups')\n",
    "ax.set_ylabel('Probability')\n",
    "plt.show()\n",
    "\n",
    "print('Sign-up 95%% quantile interval %d-%d' % tuple(predicted_signups.quantile([.025, .975]).values))"
   ]
  },
  {
   "cell_type": "markdown",
   "metadata": {},
   "source": [
    "### Incorporating available knowledge\n",
    "Now let's imagine that an \"expert\" told us that convergence rate is usually between 5 and 20%.\n",
    "\n",
    "This information could be very valuable, and bring some extra money to the business. How can we incorporate it in the model?\n",
    "\n",
    "One natural way would be to change the prior, from the uninformative uniform distribution to a distribution that better fits the opinion of the expert.\n",
    "\n"
   ]
  },
  {
   "cell_type": "code",
   "execution_count": 7,
   "metadata": {},
   "outputs": [
    {
     "data": {
      "image/png": "[encoded data removed]",
      "text/plain": [
       "<Figure size 432x288 with 1 Axes>"
      ]
     },
     "metadata": {
      "needs_background": "light"
     },
     "output_type": "display_data"
    }
   ],
   "source": [
    "# prior\n",
    "prior = pd.Series(np.random.beta(3, 25, size = n_draws ))\n",
    "\n",
    "ax = prior.hist(weights = np.ones_like(prior)/float(len(prior)))\n",
    "ax.set_xlabel('Prior on the rate of signups')\n",
    "ax.set_ylabel('Probability')\n",
    "plt.show()\n",
    "\n",
    "# In general, the more data we have the less the prior is affecting the output. \n",
    "# But beware of making too lose statements, as they can really affect the outcome when datasets are of smaller sizes (as uit is tipically the case)\n"
   ]
  },
  {
   "cell_type": "code",
   "execution_count": 8,
   "metadata": {},
   "outputs": [
    {
     "data": {
      "image/png": "[encoded data removed]",
      "text/plain": [
       "<Figure size 432x288 with 1 Axes>"
      ]
     },
     "metadata": {
      "needs_background": "light"
     },
     "output_type": "display_data"
    }
   ],
   "source": [
    "# the rest of the analysis is simply a copy-paste from the previous one\n",
    "\n",
    "sim_data = list()\n",
    "for p in prior:\n",
    "    sim_data.append(generative_model([ N_participants, p]))\n",
    "                    \n",
    "#keep only the draws matching the observed data\n",
    "posterior = pd.Series(\n",
    "    [prior[idx] for idx in range(len(sim_data)) if sim_data[idx] == N_signups])\n",
    "\n",
    "# eyeball the posterior\n",
    "ax = posterior.hist(weights = np.ones_like(posterior)/float(len(posterior)))\n",
    "ax.set_xlabel('Posterior on the signup rate')\n",
    "ax.set_ylabel('Probability')\n",
    "plt.show()\n"
   ]
  },
  {
   "cell_type": "markdown",
   "metadata": {},
   "source": [
    "## SCENARIO B\n",
    "Here we will tackle the case where we want to compare 2 different ads to see which one performs better.\n",
    "\n",
    "Again, we can reuse a large portion of the previous code. Indeed, the model and the prior remain the same, and we simply need to add the new data.\n"
   ]
  },
  {
   "cell_type": "code",
   "execution_count": 9,
   "metadata": {},
   "outputs": [
    {
     "data": {
      "image/png": "[encoded data removed]",
      "text/plain": [
       "<Figure size 432x288 with 2 Axes>"
      ]
     },
     "metadata": {
      "needs_background": "light"
     },
     "output_type": "display_data"
    },
    {
     "name": "stdout",
     "output_type": "stream",
     "text": [
      "Median signup rate for ad A: 0.223 \n",
      "Median signup rate for ad B: 0.312\n"
     ]
    }
   ],
   "source": [
    "# even though most of the elements were already coded in the cells above, let's report them in this cell too for completeness.\n",
    "\n",
    "#--- Ingredients\n",
    "\n",
    "# Prior\n",
    "n_draws = 10000\n",
    "prior_A = pd.Series(np.random.uniform(0, 1, size = n_draws )) # uniform\n",
    "prior_B = pd.Series(np.random.uniform(0, 1, size = n_draws )) # uniform\n",
    "\n",
    "# Model\n",
    "def generative_model(parameters):\n",
    "    signups = np.random.binomial(parameters[0], parameters[1]) # returns number of successes\n",
    "    return(signups)\n",
    "\n",
    "# Data\n",
    "N_participants_A = 20\n",
    "N_participants_B = 35\n",
    "N_signups_A = 4\n",
    "N_signups_B = 11\n",
    "\n",
    "#--------\n",
    "\n",
    "\n",
    "#--- Recipe\n",
    "\n",
    "# Simulate\n",
    "sim_data_A = list()\n",
    "sim_data_B = list()\n",
    "\n",
    "for idx in range(len(prior_A)):\n",
    "    sim_data_A.append(generative_model([ N_participants_A, prior_A[idx]]))\n",
    "    sim_data_B.append(generative_model([ N_participants_B, prior_B[idx]]))\n",
    "\n",
    "# Compute the posterior\n",
    "posterior_A = pd.Series([prior_A[idx] for idx in range(len(sim_data_A)) if sim_data_A[idx] == N_signups_A])\n",
    "posterior_B = pd.Series([prior_B[idx] for idx in range(len(sim_data_B)) if sim_data_B[idx] == N_signups_B])\n",
    "\n",
    "# --------\n",
    "\n",
    "\n",
    "# --- Plot the results\n",
    "#subplot(A, B)\n",
    "\n",
    "fig = plt.figure()\n",
    "fig.add_subplot(1, 2, 1)\n",
    "ax1 = posterior_A.hist(weights = np.ones_like(posterior_A)/float(len(posterior_A)))\n",
    "ax1.set_xlabel('Signup rate')\n",
    "ax1.set_ylabel('Probability')\n",
    "fig.add_subplot(1, 2, 2)\n",
    "ax2 = posterior_B.hist(weights = np.ones_like(posterior_B)/float(len(posterior_B)), color = 'green')\n",
    "ax2.set_xlabel('Signup rate')\n",
    "plt.show()\n",
    "\n",
    "# Some summary statistics\n",
    "print('Median signup rate for ad A: %.3f \\nMedian signup rate for ad B: %.3f' % \n",
    "      (posterior_A.median(), posterior_B.median()))"
   ]
  },
  {
   "cell_type": "code",
   "execution_count": 10,
   "metadata": {},
   "outputs": [
    {
     "data": {
      "image/png": "[encoded data removed]",
      "text/plain": [
       "<Figure size 432x288 with 1 Axes>"
      ]
     },
     "metadata": {
      "needs_background": "light"
     },
     "output_type": "display_data"
    },
    {
     "name": "stdout",
     "output_type": "stream",
     "text": [
      "Based on the collected data, we estiamte a 79.55%  probability that the ad B has a conversion rate higher than the ad A.\n"
     ]
    }
   ],
   "source": [
    "# Now that we have the estimated signup rates for both A and B, we can answer the question of which one has a higher signup rate (in a probabilistic way of course!!)\n",
    "\n",
    "diff_rate = pd.Series([float(pB - pA) for pA in posterior_A for pB in posterior_B])\n",
    "# for some python reason the simple diff_rate = posterior_B - posterior_A works but gives many nans...\n",
    "\n",
    "ax1 = diff_rate.hist()\n",
    "ax1.set_xlabel('Signup rate')\n",
    "ax1.set_ylabel('Frequency')\n",
    "plt.show()\n",
    "\n",
    "# As we did before when comparing to a baseline, we can now calculate the probability that signup rate is higher for B:\n",
    "p_signup_rate_higer_for_B = len(diff_rate[diff_rate>0])/ len(diff_rate)\n",
    "\n",
    "print('Based on the collected data, we estiamte a %.2f%%  probability that the ad B has a conversion rate higher than the ad A.'  % (100 * p_signup_rate_higer_for_B))"
   ]
  },
  {
   "cell_type": "markdown",
   "metadata": {},
   "source": [
    "### Next steps\n",
    "A great improvement now would be to use a library for bayesian computations called Stan. This is a faster and less error prone approach than the one we used for scenario A (called approximate bayesian computation), where things were coded from scratch. One of the key features that make stan faster is that the likelihood of the model is calculated, instead of simulated via sampling (very time consuming).\n",
    "\n",
    "Stan is a programming language for bayesian modelling, and it can nicely interface with python and other popular data science languages. Here is a useful cheatsheet: http://www.sumsar.net/files/posts/2017-bayesian-tutorial-exercises/stan_cheat_sheet2.12.pdf. Again, thanks to Rasmus Baath for the excelent material and explanation.\n",
    "\n",
    " "
   ]
  },
  {
   "cell_type": "code",
   "execution_count": null,
   "metadata": {},
   "outputs": [],
   "source": []
  },
  {
   "cell_type": "code",
   "execution_count": null,
   "metadata": {},
   "outputs": [],
   "source": []
  },
  {
   "cell_type": "code",
   "execution_count": null,
   "metadata": {},
   "outputs": [],
   "source": []
  }
 ],
 "metadata": {
  "kernelspec": {
   "display_name": "Python 3",
   "language": "python",
   "name": "python3"
  },
  "language_info": {
   "codemirror_mode": {
    "name": "ipython",
    "version": 3
   },
   "file_extension": ".py",
   "mimetype": "text/x-python",
   "name": "python",
   "nbconvert_exporter": "python",
   "pygments_lexer": "ipython3",
   "version": "3.7.1"
  }
 },
 "nbformat": 4,
 "nbformat_minor": 2
}
