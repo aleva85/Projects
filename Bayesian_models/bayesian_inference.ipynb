{
 "cells": [
  {
   "cell_type": "markdown",
   "metadata": {},
   "source": [
    "# Bayesian Inference\n",
    "\n",
    "This notebook is about bayesian inference. Bayesian inference is a probabilistic approach to data analysis greatly appreciated thanks to its ability to quantify the uncertainty in the data. Moreover, it allows to include sources of information other than the data (eg, the opinion of an expert). \n",
    "\n",
    "This notebook nicely combines with other notebooks form this repository which covered A/B testing.\n",
    "\n",
    "\n",
    "This notebook is inspired by the tutorial from https://github.com/rasmusab/bayesianprobabilitiesworkshop/blob/master/Exercise%201.ipynb\n",
    "\n",
    "---\n",
    "\n",
    "### Ingredients\n",
    "\n",
    "Bayesian data analysis needs:\n",
    "- data: in this case the number of customers signing up after seeing the proposed add.\n",
    "- a generative model: in this case the only parameter that the model needs is the sign up probability, which can be modeled as a binomial distribution.\n",
    "- prior information: to infer the parameter from the data, we need to consider a range of possible parameter values. In this case, the only prior information we have is that the probability of signup can range between 0 and 1, so a natural choice is to represent prior information with a uniform distribution\n",
    "\n",
    "### Recipe\n",
    "\n",
    "A typical bayesian inference approach now consists in:\n",
    "1. run a large number of simulations where a possible parameter value is drawn from the prior and used to simulate the process that generated the original dataset\n",
    "2. answer the question \"Which parameter value gave me simulated data that were very similar to the original data?\"\n",
    "\n",
    "\n",
    "We will use three scenarios to walk through the steps of a data science project relying on bayesian inference.\n",
    "\n",
    "**Scenario A**: our ecommerce shop sends an ad to its clients. Based on the few data collected, what can we say about the convergence rate of the add?\n",
    "\n",
    "**Scenario B**: our ecommerce shop sends an ad to some clients clients, and another one to other clients. Based on the few data collected, which add seems to do better? \n",
    "\n",
    "\n"
   ]
  },
  {
   "cell_type": "code",
   "execution_count": 5,
   "metadata": {},
   "outputs": [
    {
     "data": {
      "image/png": "[encoded data removed]",
      "text/plain": [
       "<Figure size 432x288 with 1 Axes>"
      ]
     },
     "metadata": {
      "needs_background": "light"
     },
     "output_type": "display_data"
    }
   ],
   "source": [
    "### SCENARIO A\n",
    "\n",
    "# Import libraries\n",
    "import pandas as pd\n",
    "import numpy as np\n",
    "import matplotlib.pyplot as plt\n",
    "\n",
    "# Number of random draws from the prior\n",
    "n_draws = 100000\n",
    "\n",
    "# Ingredient 1: we use a uniform prior and sample n_draws draws from a uniform prior \n",
    "prior = pd.Series(np.random.uniform(0, 1, size = n_draws ))\n",
    "prior.hist()\n",
    "plt.show()"
   ]
  },
  {
   "cell_type": "code",
   "execution_count": 2,
   "metadata": {},
   "outputs": [
    {
     "name": "stdout",
     "output_type": "stream",
     "text": [
      "3\n",
      "4\n",
      "3\n"
     ]
    }
   ],
   "source": [
    "# Ingredient 2: Let's now define the generative model\n",
    "def generative_model(parameters):\n",
    "    signups = np.random.binomial(parameters[0], parameters[1]) # returns number of successes\n",
    "    return(signups)\n",
    "\n",
    "# for instance, let's simulate 3 times sending the ad to 20 people, with a signup rate of 0.1\n",
    "for i in np.arange(3):\n",
    "    print(generative_model([20, 0.1]))"
   ]
  },
  {
   "cell_type": "code",
   "execution_count": 3,
   "metadata": {},
   "outputs": [
    {
     "data": {
      "image/png": "[encoded data removed]",
      "text/plain": [
       "<Figure size 432x288 with 1 Axes>"
      ]
     },
     "metadata": {
      "needs_background": "light"
     },
     "output_type": "display_data"
    }
   ],
   "source": [
    "# Ingredient 3: the actual data\n",
    "N_participants = 20\n",
    "N_signups = 4\n",
    "\n",
    "# Now we are ready to simulate the testing campaing as much as we want!\n",
    "sim_data = list()\n",
    "for p in prior:\n",
    "    sim_data.append(generative_model([ N_participants, p]))\n",
    "                    \n",
    "# Next, we keep only the draws (and associated parameter) that match the observed data\n",
    "posterior = pd.Series(\n",
    "    [prior[idx] for idx in range(len(sim_data)) if sim_data[idx] == N_signups])\n",
    "\n",
    "# eyeball the posterior\n",
    "ax = posterior.hist()\n",
    "ax.set_xlabel('Signup rate')\n",
    "plt.show()"
   ]
  },
  {
   "cell_type": "code",
   "execution_count": 4,
   "metadata": {},
   "outputs": [
    {
     "name": "stdout",
     "output_type": "stream",
     "text": [
      "Number of draws used to create the posterior: 4709\n",
      "Posterior median: 0.218, Posterior quantile interval: 0.081-0.420\n"
     ]
    }
   ],
   "source": [
    "# it is common sense to check that we got enought draws left after the filtering. \n",
    "# it appears a safe number here could be something like >1000.\n",
    "print('Number of draws used to create the posterior: %.0f' % len(posterior))\n",
    "\n",
    "# Some summary statistics\n",
    "print('Posterior median: %.3f, Posterior quantile interval: %.3f-%.3f' % \n",
    "      (posterior.median(), posterior.quantile(.025), posterior.quantile(.975)))\n"
   ]
  },
  {
   "cell_type": "markdown",
   "metadata": {},
   "source": [
    "### Comparing to a baseline\n",
    "Imagine now, that we want to know if this ad has a signup rate higher than 15%.\n",
    "This can be done very simply by integrating over the posterior from 0.15 to 1:"
   ]
  },
  {
   "cell_type": "code",
   "execution_count": 17,
   "metadata": {},
   "outputs": [
    {
     "name": "stdout",
     "output_type": "stream",
     "text": [
      "Based on the collected date, we estiamte a 79.70%  probability that the ad has a conversion rate higher than 15%.\n"
     ]
    }
   ],
   "source": [
    "p_signup_rate_higer_than_15pc = len(posterior[posterior > 0.15]) / len(posterior)\n",
    "print('Based on the collected date, we estiamte a %.2f%%  probability that the ad has a conversion rate higher than 15%%.'  % (100 * p_signup_rate_higer_than_15pc))"
   ]
  },
  {
   "cell_type": "markdown",
   "metadata": {},
   "source": [
    "### Making predictions\n",
    "Imagine now, that we would like to estimate how the ad would perform if it were presented to 100 people. \n",
    "Again, the answer will come in the form of a probability distribution.\n"
   ]
  },
  {
   "cell_type": "code",
   "execution_count": 52,
   "metadata": {},
   "outputs": [
    {
     "data": {
      "image/png": "[encoded data removed]",
      "text/plain": [
       "<Figure size 432x288 with 1 Axes>"
      ]
     },
     "metadata": {
      "needs_background": "light"
     },
     "output_type": "display_data"
    },
    {
     "name": "stdout",
     "output_type": "stream",
     "text": [
      "Sign-up 95% quantile interval 7-44\n"
     ]
    }
   ],
   "source": [
    "predicted_signups = pd.Series([generative_model([100, p]) for p in posterior])\n",
    "predicted_signups.hist()\n",
    "plt.show()\n",
    "\n",
    "print('Sign-up 95%% quantile interval %d-%d' % tuple(predicted_signups.quantile([.025, .975]).values))"
   ]
  },
  {
   "cell_type": "markdown",
   "metadata": {},
   "source": [
    "### Incorporating available knowledge\n",
    "Now let's imagine that an \"expert\" told us that convergence rate is usually between 5 and 20%.\n",
    "\n",
    "This information could be very valuable, and bring some extra money to the business. How can we incorporate it in the model?\n",
    "\n",
    "One natural way would be to change the prior, from the uninformative uniform distribution to a distribution that better fits the opinion of the expert.\n",
    "\n"
   ]
  },
  {
   "cell_type": "code",
   "execution_count": 59,
   "metadata": {},
   "outputs": [
    {
     "data": {
      "image/png": "[encoded data removed]",
      "text/plain": [
       "<Figure size 432x288 with 1 Axes>"
      ]
     },
     "metadata": {
      "needs_background": "light"
     },
     "output_type": "display_data"
    }
   ],
   "source": [
    "# prior\n",
    "prior = pd.Series(np.random.beta(3, 25, size = n_draws ))\n",
    "prior.hist()\n",
    "plt.show()\n",
    "# In general, the more data we have the less the prior is affecting the output. \n",
    "# But beware of making too lose statements, as they can really affect the outcome when datasets are of smaller sizes (as uit is tipically the case)\n"
   ]
  },
  {
   "cell_type": "code",
   "execution_count": 57,
   "metadata": {},
   "outputs": [
    {
     "data": {
      "image/png": "[encoded data removed]",
      "text/plain": [
       "<Figure size 432x288 with 1 Axes>"
      ]
     },
     "metadata": {
      "needs_background": "light"
     },
     "output_type": "display_data"
    }
   ],
   "source": [
    "# the rest of the analysis is simply a copy-paste from the previous one\n",
    "\n",
    "sim_data = list()\n",
    "for p in prior:\n",
    "    sim_data.append(generative_model([ N_participants, p]))\n",
    "                    \n",
    "#keep only the draws matching the observed data\n",
    "posterior = pd.Series(\n",
    "    [prior[idx] for idx in range(len(sim_data)) if sim_data[idx] == N_signups])\n",
    "\n",
    "# eyeball the posterior\n",
    "ax = posterior.hist()\n",
    "ax.set_xlabel('Signup rate')\n",
    "plt.show()\n"
   ]
  },
  {
   "cell_type": "code",
   "execution_count": null,
   "metadata": {},
   "outputs": [],
   "source": [
    "# SCENARIO B"
   ]
  }
 ],
 "metadata": {
  "kernelspec": {
   "display_name": "Python 3",
   "language": "python",
   "name": "python3"
  },
  "language_info": {
   "codemirror_mode": {
    "name": "ipython",
    "version": 3
   },
   "file_extension": ".py",
   "mimetype": "text/x-python",
   "name": "python",
   "nbconvert_exporter": "python",
   "pygments_lexer": "ipython3",
   "version": "3.7.1"
  }
 },
 "nbformat": 4,
 "nbformat_minor": 2
}
