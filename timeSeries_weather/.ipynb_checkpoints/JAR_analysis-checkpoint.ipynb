{
 "cells": [
  {
   "cell_type": "markdown",
   "metadata": {},
   "source": [
    "# Just About Right scales and penalty analysis\n",
    "\n",
    "Just about right (JAR) scales measure the appropriateness of the level of a specific attribute, and are used to determine the optimum levels of attributes in a product.\n",
    "when JAR data are collected together with Preference data (or liking scores, or hedonic judgements), a penalty analysis can provide directional information for product reformulation or optimization.\n",
    "\n",
    "In this example, I will analyise a survey where a brand of potato chips has been evaluated by 150 consumers. Each consumer gave his opinion on JAR scale (1 to 5, with 1 being \"not enough\", 3 being \"just about right\", and 5 beeing \"far too much\") for four attributes (Saltiness, Sweetness, Acidity, Crunchiness), and then gave an overall liking score on a 1-10 liking scale.\n",
    "\n",
    "The dataset can be downloaded from here : https://help.xlstat.com/customer/en/portal/articles/2062259-penalty-analysis-in-excel-tutorial?b_id=9283\n"
   ]
  },
  {
   "cell_type": "code",
   "execution_count": null,
   "metadata": {},
   "outputs": [],
   "source": [
    "import pandas as pd\n",
    "df = pd.read_csv('data.csv', delimiter = ',')\n",
    "print(df.head(10))"
   ]
  }
 ],
 "metadata": {
  "kernelspec": {
   "display_name": "Python 3",
   "language": "python",
   "name": "python3"
  },
  "language_info": {
   "codemirror_mode": {
    "name": "ipython",
    "version": 3
   },
   "file_extension": ".py",
   "mimetype": "text/x-python",
   "name": "python",
   "nbconvert_exporter": "python",
   "pygments_lexer": "ipython3",
   "version": "3.6.3"
  }
 },
 "nbformat": 4,
 "nbformat_minor": 2
}
