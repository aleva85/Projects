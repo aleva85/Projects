{
 "cells": [
  {
   "cell_type": "code",
<<<<<<< HEAD
   "execution_count": 1,
=======
   "execution_count": 24,
>>>>>>> d026f74... 1
   "metadata": {},
   "outputs": [
    {
     "data": {
      "text/html": [
       "<div>\n",
<<<<<<< HEAD
       "<style scoped>\n",
       "    .dataframe tbody tr th:only-of-type {\n",
       "        vertical-align: middle;\n",
       "    }\n",
       "\n",
       "    .dataframe tbody tr th {\n",
       "        vertical-align: top;\n",
       "    }\n",
       "\n",
       "    .dataframe thead th {\n",
       "        text-align: right;\n",
=======
       "<style>\n",
       "    .dataframe thead tr:only-child th {\n",
       "        text-align: right;\n",
       "    }\n",
       "\n",
       "    .dataframe thead th {\n",
       "        text-align: left;\n",
       "    }\n",
       "\n",
       "    .dataframe tbody tr th {\n",
       "        vertical-align: top;\n",
>>>>>>> d026f74... 1
       "    }\n",
       "</style>\n",
       "<table border=\"1\" class=\"dataframe\">\n",
       "  <thead>\n",
       "    <tr style=\"text-align: right;\">\n",
       "      <th></th>\n",
       "      <th>cuisine</th>\n",
       "      <th>id</th>\n",
       "      <th>ingredients</th>\n",
       "    </tr>\n",
       "  </thead>\n",
       "  <tbody>\n",
       "    <tr>\n",
       "      <th>0</th>\n",
       "      <td>greek</td>\n",
       "      <td>10259</td>\n",
       "      <td>[romaine lettuce, black olives, grape tomatoes...</td>\n",
       "    </tr>\n",
       "    <tr>\n",
       "      <th>1</th>\n",
       "      <td>southern_us</td>\n",
       "      <td>25693</td>\n",
       "      <td>[plain flour, ground pepper, salt, tomatoes, g...</td>\n",
       "    </tr>\n",
       "    <tr>\n",
       "      <th>2</th>\n",
       "      <td>filipino</td>\n",
       "      <td>20130</td>\n",
       "      <td>[eggs, pepper, salt, mayonaise, cooking oil, g...</td>\n",
       "    </tr>\n",
       "    <tr>\n",
       "      <th>3</th>\n",
       "      <td>indian</td>\n",
       "      <td>22213</td>\n",
       "      <td>[water, vegetable oil, wheat, salt]</td>\n",
       "    </tr>\n",
       "    <tr>\n",
       "      <th>4</th>\n",
       "      <td>indian</td>\n",
       "      <td>13162</td>\n",
       "      <td>[black pepper, shallots, cornflour, cayenne pe...</td>\n",
       "    </tr>\n",
       "  </tbody>\n",
       "</table>\n",
       "</div>"
      ],
      "text/plain": [
       "       cuisine     id                                        ingredients\n",
       "0        greek  10259  [romaine lettuce, black olives, grape tomatoes...\n",
       "1  southern_us  25693  [plain flour, ground pepper, salt, tomatoes, g...\n",
       "2     filipino  20130  [eggs, pepper, salt, mayonaise, cooking oil, g...\n",
       "3       indian  22213                [water, vegetable oil, wheat, salt]\n",
       "4       indian  13162  [black pepper, shallots, cornflour, cayenne pe..."
      ]
     },
<<<<<<< HEAD
     "execution_count": 1,
=======
     "execution_count": 24,
>>>>>>> d026f74... 1
     "metadata": {},
     "output_type": "execute_result"
    }
   ],
   "source": [
    "import numpy as np\n",
    "import json\n",
    "import pandas as pd\n",
    "from sklearn.feature_extraction.text import TfidfTransformer\n",
    "\n",
    "#with open('train.json') as data_file:    \n",
    "#   data = json.load(data_file)\n",
    "\n",
    "train = pd.read_json('train.json')\n",
    "train.head()\n"
   ]
  },
  {
   "cell_type": "code",
<<<<<<< HEAD
   "execution_count": 2,
   "metadata": {},
   "outputs": [],
   "source": [
    "# find unique list of ingredients and cuisines\n",
    "ingredients = []\n",
    "[ingredients.extend(train.iloc[recipe].ingredients) for recipe in range(len(train))]\n",
    "ingredients = list(set(ingredients))\n",
    "\n",
    "cuisines = train['cuisine'].unique()\n"
   ]
  },
  {
   "cell_type": "code",
   "execution_count": null,
   "metadata": {},
   "outputs": [],
   "source": [
    "# now we make a matrix where for every recipe (row) and for every ingredient (col) \n",
    "# has a 1 if the recipe uses that ingredient, and 0 otherwise.\n",
    "# takes hours to compute. Using a sparse matrix should improve performances, look into how to do that \n",
    "X = np.zeros(shape = (len(train), len(ingredients))) \n",
    "for recipe in range(len(train)):\n",
    "    for ingredient in range(len(ingredients)):\n",
    "        X[recipe,ingredient] = 1 if ingredients[ingredient] in train.iloc[recipe].ingredients else 0\n"
   ]
  },
  {
   "cell_type": "code",
   "execution_count": null,
   "metadata": {},
   "outputs": [],
   "source": [
    "# I stoped execution after a few hours, we processed ~11.000 recipes which are more than enough for this exercise \n",
    "print('number of recipes processed: ',len(X[np.sum(X,axis=1)!=0]))\n",
    "\n",
    "# save the results so I don't need to run again the cells above \n",
    "import pickle\n",
    "with open('mat.pickle', 'wb') as handle:\n",
    "    pickle.dump(X[:-2], handle)  # can't be sure that the last line was processed entirely"
   ]
  },
  {
   "cell_type": "code",
   "execution_count": 6,
   "metadata": {},
   "outputs": [
    {
     "name": "stdout",
     "output_type": "stream",
     "text": [
      "112\n"
     ]
    }
   ],
   "source": [
    "import pickle\n",
    "with open('mat.pickle', 'rb') as handle:\n",
    "    X = pickle.load(handle)\n",
    "\n",
    "# converting to sparse matrix reduced the size (in bytes) of X, but PCA does not support sparse input\n",
    "from sys import getsizeof\n",
    "print(getsizeof(X))\n",
    "\n",
    "#from scipy import sparse\n",
    "#X=sparse.csc_matrix(X)\n",
    "#print(getsizeof(X))\n",
    "\n"
   ]
  },
  {
   "cell_type": "code",
   "execution_count": 7,
   "metadata": {},
   "outputs": [],
   "source": [
    "from sklearn.decomposition import PCA\n",
    "pca = PCA(n_components = 2)\n",
    "X2D = pca.fit_transform(X)\n",
    "\n",
    "y = train.cuisine[:len(X2D)]"
=======
   "execution_count": 27,
   "metadata": {},
   "outputs": [
    {
     "data": {
      "text/plain": [
       "array(['greek', 'southern_us', 'filipino', 'indian', 'jamaican', 'spanish',\n",
       "       'italian', 'mexican', 'chinese', 'british', 'thai', 'vietnamese',\n",
       "       'cajun_creole', 'brazilian', 'french', 'japanese', 'irish',\n",
       "       'korean', 'moroccan', 'russian'], dtype=object)"
      ]
     },
     "execution_count": 27,
     "metadata": {},
     "output_type": "execute_result"
    }
   ],
   "source": [
    "for receipe in range\n",
    "\n",
    "for ingredient in ingredients\n",
    "\n",
    "\n",
    "\n",
    "cousines = train['cuisine'].unique()\n",
    "ingredients = \n"
>>>>>>> d026f74... 1
   ]
  },
  {
   "cell_type": "code",
<<<<<<< HEAD
   "execution_count": 9,
   "metadata": {},
   "outputs": [
    {
     "data": {
      "image/png": "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\n",
      "text/plain": [
       "<matplotlib.figure.Figure at 0x21fd5ed5cc0>"
      ]
     },
     "metadata": {},
     "output_type": "display_data"
    }
   ],
   "source": [
    "import matplotlib.pyplot as plt\n",
    "\n",
    "for cuisine in cuisines:\n",
    "    plt.plot(X2D[y==cuisine,0], X2D[y==cuisine,1], \"s\")\n",
    "plt.grid(True, which='both')\n",
    "plt.xlabel(r\"$x_1$\", fontsize=20)\n",
    "plt.ylabel(r\"$x_2$\", fontsize=20, rotation=0)\n",
    "plt.show()"
=======
   "execution_count": 38,
   "metadata": {},
   "outputs": [
    {
     "ename": "KeyError",
     "evalue": "(1, 1)",
     "output_type": "error",
     "traceback": [
      "\u001b[1;31m---------------------------------------------------------------------------\u001b[0m",
      "\u001b[1;31mKeyError\u001b[0m                                  Traceback (most recent call last)",
      "\u001b[1;32m~\\AppData\\Local\\Continuum\\anaconda3\\lib\\site-packages\\pandas\\core\\indexes\\base.py\u001b[0m in \u001b[0;36mget_loc\u001b[1;34m(self, key, method, tolerance)\u001b[0m\n\u001b[0;32m   2441\u001b[0m             \u001b[1;32mtry\u001b[0m\u001b[1;33m:\u001b[0m\u001b[1;33m\u001b[0m\u001b[0m\n\u001b[1;32m-> 2442\u001b[1;33m                 \u001b[1;32mreturn\u001b[0m \u001b[0mself\u001b[0m\u001b[1;33m.\u001b[0m\u001b[0m_engine\u001b[0m\u001b[1;33m.\u001b[0m\u001b[0mget_loc\u001b[0m\u001b[1;33m(\u001b[0m\u001b[0mkey\u001b[0m\u001b[1;33m)\u001b[0m\u001b[1;33m\u001b[0m\u001b[0m\n\u001b[0m\u001b[0;32m   2443\u001b[0m             \u001b[1;32mexcept\u001b[0m \u001b[0mKeyError\u001b[0m\u001b[1;33m:\u001b[0m\u001b[1;33m\u001b[0m\u001b[0m\n",
      "\u001b[1;32mpandas\\_libs\\index.pyx\u001b[0m in \u001b[0;36mpandas._libs.index.IndexEngine.get_loc\u001b[1;34m()\u001b[0m\n",
      "\u001b[1;32mpandas\\_libs\\index.pyx\u001b[0m in \u001b[0;36mpandas._libs.index.IndexEngine.get_loc\u001b[1;34m()\u001b[0m\n",
      "\u001b[1;32mpandas\\_libs\\hashtable_class_helper.pxi\u001b[0m in \u001b[0;36mpandas._libs.hashtable.PyObjectHashTable.get_item\u001b[1;34m()\u001b[0m\n",
      "\u001b[1;32mpandas\\_libs\\hashtable_class_helper.pxi\u001b[0m in \u001b[0;36mpandas._libs.hashtable.PyObjectHashTable.get_item\u001b[1;34m()\u001b[0m\n",
      "\u001b[1;31mKeyError\u001b[0m: (1, 1)",
      "\nDuring handling of the above exception, another exception occurred:\n",
      "\u001b[1;31mKeyError\u001b[0m                                  Traceback (most recent call last)",
      "\u001b[1;32m<ipython-input-38-834fea670480>\u001b[0m in \u001b[0;36m<module>\u001b[1;34m()\u001b[0m\n\u001b[1;32m----> 1\u001b[1;33m \u001b[0mtrain\u001b[0m\u001b[1;33m[\u001b[0m\u001b[1;36m1\u001b[0m\u001b[1;33m,\u001b[0m\u001b[1;36m1\u001b[0m\u001b[1;33m]\u001b[0m\u001b[1;33m\u001b[0m\u001b[0m\n\u001b[0m",
      "\u001b[1;32m~\\AppData\\Local\\Continuum\\anaconda3\\lib\\site-packages\\pandas\\core\\frame.py\u001b[0m in \u001b[0;36m__getitem__\u001b[1;34m(self, key)\u001b[0m\n\u001b[0;32m   1962\u001b[0m             \u001b[1;32mreturn\u001b[0m \u001b[0mself\u001b[0m\u001b[1;33m.\u001b[0m\u001b[0m_getitem_multilevel\u001b[0m\u001b[1;33m(\u001b[0m\u001b[0mkey\u001b[0m\u001b[1;33m)\u001b[0m\u001b[1;33m\u001b[0m\u001b[0m\n\u001b[0;32m   1963\u001b[0m         \u001b[1;32melse\u001b[0m\u001b[1;33m:\u001b[0m\u001b[1;33m\u001b[0m\u001b[0m\n\u001b[1;32m-> 1964\u001b[1;33m             \u001b[1;32mreturn\u001b[0m \u001b[0mself\u001b[0m\u001b[1;33m.\u001b[0m\u001b[0m_getitem_column\u001b[0m\u001b[1;33m(\u001b[0m\u001b[0mkey\u001b[0m\u001b[1;33m)\u001b[0m\u001b[1;33m\u001b[0m\u001b[0m\n\u001b[0m\u001b[0;32m   1965\u001b[0m \u001b[1;33m\u001b[0m\u001b[0m\n\u001b[0;32m   1966\u001b[0m     \u001b[1;32mdef\u001b[0m \u001b[0m_getitem_column\u001b[0m\u001b[1;33m(\u001b[0m\u001b[0mself\u001b[0m\u001b[1;33m,\u001b[0m \u001b[0mkey\u001b[0m\u001b[1;33m)\u001b[0m\u001b[1;33m:\u001b[0m\u001b[1;33m\u001b[0m\u001b[0m\n",
      "\u001b[1;32m~\\AppData\\Local\\Continuum\\anaconda3\\lib\\site-packages\\pandas\\core\\frame.py\u001b[0m in \u001b[0;36m_getitem_column\u001b[1;34m(self, key)\u001b[0m\n\u001b[0;32m   1969\u001b[0m         \u001b[1;31m# get column\u001b[0m\u001b[1;33m\u001b[0m\u001b[1;33m\u001b[0m\u001b[0m\n\u001b[0;32m   1970\u001b[0m         \u001b[1;32mif\u001b[0m \u001b[0mself\u001b[0m\u001b[1;33m.\u001b[0m\u001b[0mcolumns\u001b[0m\u001b[1;33m.\u001b[0m\u001b[0mis_unique\u001b[0m\u001b[1;33m:\u001b[0m\u001b[1;33m\u001b[0m\u001b[0m\n\u001b[1;32m-> 1971\u001b[1;33m             \u001b[1;32mreturn\u001b[0m \u001b[0mself\u001b[0m\u001b[1;33m.\u001b[0m\u001b[0m_get_item_cache\u001b[0m\u001b[1;33m(\u001b[0m\u001b[0mkey\u001b[0m\u001b[1;33m)\u001b[0m\u001b[1;33m\u001b[0m\u001b[0m\n\u001b[0m\u001b[0;32m   1972\u001b[0m \u001b[1;33m\u001b[0m\u001b[0m\n\u001b[0;32m   1973\u001b[0m         \u001b[1;31m# duplicate columns & possible reduce dimensionality\u001b[0m\u001b[1;33m\u001b[0m\u001b[1;33m\u001b[0m\u001b[0m\n",
      "\u001b[1;32m~\\AppData\\Local\\Continuum\\anaconda3\\lib\\site-packages\\pandas\\core\\generic.py\u001b[0m in \u001b[0;36m_get_item_cache\u001b[1;34m(self, item)\u001b[0m\n\u001b[0;32m   1643\u001b[0m         \u001b[0mres\u001b[0m \u001b[1;33m=\u001b[0m \u001b[0mcache\u001b[0m\u001b[1;33m.\u001b[0m\u001b[0mget\u001b[0m\u001b[1;33m(\u001b[0m\u001b[0mitem\u001b[0m\u001b[1;33m)\u001b[0m\u001b[1;33m\u001b[0m\u001b[0m\n\u001b[0;32m   1644\u001b[0m         \u001b[1;32mif\u001b[0m \u001b[0mres\u001b[0m \u001b[1;32mis\u001b[0m \u001b[1;32mNone\u001b[0m\u001b[1;33m:\u001b[0m\u001b[1;33m\u001b[0m\u001b[0m\n\u001b[1;32m-> 1645\u001b[1;33m             \u001b[0mvalues\u001b[0m \u001b[1;33m=\u001b[0m \u001b[0mself\u001b[0m\u001b[1;33m.\u001b[0m\u001b[0m_data\u001b[0m\u001b[1;33m.\u001b[0m\u001b[0mget\u001b[0m\u001b[1;33m(\u001b[0m\u001b[0mitem\u001b[0m\u001b[1;33m)\u001b[0m\u001b[1;33m\u001b[0m\u001b[0m\n\u001b[0m\u001b[0;32m   1646\u001b[0m             \u001b[0mres\u001b[0m \u001b[1;33m=\u001b[0m \u001b[0mself\u001b[0m\u001b[1;33m.\u001b[0m\u001b[0m_box_item_values\u001b[0m\u001b[1;33m(\u001b[0m\u001b[0mitem\u001b[0m\u001b[1;33m,\u001b[0m \u001b[0mvalues\u001b[0m\u001b[1;33m)\u001b[0m\u001b[1;33m\u001b[0m\u001b[0m\n\u001b[0;32m   1647\u001b[0m             \u001b[0mcache\u001b[0m\u001b[1;33m[\u001b[0m\u001b[0mitem\u001b[0m\u001b[1;33m]\u001b[0m \u001b[1;33m=\u001b[0m \u001b[0mres\u001b[0m\u001b[1;33m\u001b[0m\u001b[0m\n",
      "\u001b[1;32m~\\AppData\\Local\\Continuum\\anaconda3\\lib\\site-packages\\pandas\\core\\internals.py\u001b[0m in \u001b[0;36mget\u001b[1;34m(self, item, fastpath)\u001b[0m\n\u001b[0;32m   3588\u001b[0m \u001b[1;33m\u001b[0m\u001b[0m\n\u001b[0;32m   3589\u001b[0m             \u001b[1;32mif\u001b[0m \u001b[1;32mnot\u001b[0m \u001b[0misnull\u001b[0m\u001b[1;33m(\u001b[0m\u001b[0mitem\u001b[0m\u001b[1;33m)\u001b[0m\u001b[1;33m:\u001b[0m\u001b[1;33m\u001b[0m\u001b[0m\n\u001b[1;32m-> 3590\u001b[1;33m                 \u001b[0mloc\u001b[0m \u001b[1;33m=\u001b[0m \u001b[0mself\u001b[0m\u001b[1;33m.\u001b[0m\u001b[0mitems\u001b[0m\u001b[1;33m.\u001b[0m\u001b[0mget_loc\u001b[0m\u001b[1;33m(\u001b[0m\u001b[0mitem\u001b[0m\u001b[1;33m)\u001b[0m\u001b[1;33m\u001b[0m\u001b[0m\n\u001b[0m\u001b[0;32m   3591\u001b[0m             \u001b[1;32melse\u001b[0m\u001b[1;33m:\u001b[0m\u001b[1;33m\u001b[0m\u001b[0m\n\u001b[0;32m   3592\u001b[0m                 \u001b[0mindexer\u001b[0m \u001b[1;33m=\u001b[0m \u001b[0mnp\u001b[0m\u001b[1;33m.\u001b[0m\u001b[0marange\u001b[0m\u001b[1;33m(\u001b[0m\u001b[0mlen\u001b[0m\u001b[1;33m(\u001b[0m\u001b[0mself\u001b[0m\u001b[1;33m.\u001b[0m\u001b[0mitems\u001b[0m\u001b[1;33m)\u001b[0m\u001b[1;33m)\u001b[0m\u001b[1;33m[\u001b[0m\u001b[0misnull\u001b[0m\u001b[1;33m(\u001b[0m\u001b[0mself\u001b[0m\u001b[1;33m.\u001b[0m\u001b[0mitems\u001b[0m\u001b[1;33m)\u001b[0m\u001b[1;33m]\u001b[0m\u001b[1;33m\u001b[0m\u001b[0m\n",
      "\u001b[1;32m~\\AppData\\Local\\Continuum\\anaconda3\\lib\\site-packages\\pandas\\core\\indexes\\base.py\u001b[0m in \u001b[0;36mget_loc\u001b[1;34m(self, key, method, tolerance)\u001b[0m\n\u001b[0;32m   2442\u001b[0m                 \u001b[1;32mreturn\u001b[0m \u001b[0mself\u001b[0m\u001b[1;33m.\u001b[0m\u001b[0m_engine\u001b[0m\u001b[1;33m.\u001b[0m\u001b[0mget_loc\u001b[0m\u001b[1;33m(\u001b[0m\u001b[0mkey\u001b[0m\u001b[1;33m)\u001b[0m\u001b[1;33m\u001b[0m\u001b[0m\n\u001b[0;32m   2443\u001b[0m             \u001b[1;32mexcept\u001b[0m \u001b[0mKeyError\u001b[0m\u001b[1;33m:\u001b[0m\u001b[1;33m\u001b[0m\u001b[0m\n\u001b[1;32m-> 2444\u001b[1;33m                 \u001b[1;32mreturn\u001b[0m \u001b[0mself\u001b[0m\u001b[1;33m.\u001b[0m\u001b[0m_engine\u001b[0m\u001b[1;33m.\u001b[0m\u001b[0mget_loc\u001b[0m\u001b[1;33m(\u001b[0m\u001b[0mself\u001b[0m\u001b[1;33m.\u001b[0m\u001b[0m_maybe_cast_indexer\u001b[0m\u001b[1;33m(\u001b[0m\u001b[0mkey\u001b[0m\u001b[1;33m)\u001b[0m\u001b[1;33m)\u001b[0m\u001b[1;33m\u001b[0m\u001b[0m\n\u001b[0m\u001b[0;32m   2445\u001b[0m \u001b[1;33m\u001b[0m\u001b[0m\n\u001b[0;32m   2446\u001b[0m         \u001b[0mindexer\u001b[0m \u001b[1;33m=\u001b[0m \u001b[0mself\u001b[0m\u001b[1;33m.\u001b[0m\u001b[0mget_indexer\u001b[0m\u001b[1;33m(\u001b[0m\u001b[1;33m[\u001b[0m\u001b[0mkey\u001b[0m\u001b[1;33m]\u001b[0m\u001b[1;33m,\u001b[0m \u001b[0mmethod\u001b[0m\u001b[1;33m=\u001b[0m\u001b[0mmethod\u001b[0m\u001b[1;33m,\u001b[0m \u001b[0mtolerance\u001b[0m\u001b[1;33m=\u001b[0m\u001b[0mtolerance\u001b[0m\u001b[1;33m)\u001b[0m\u001b[1;33m\u001b[0m\u001b[0m\n",
      "\u001b[1;32mpandas\\_libs\\index.pyx\u001b[0m in \u001b[0;36mpandas._libs.index.IndexEngine.get_loc\u001b[1;34m()\u001b[0m\n",
      "\u001b[1;32mpandas\\_libs\\index.pyx\u001b[0m in \u001b[0;36mpandas._libs.index.IndexEngine.get_loc\u001b[1;34m()\u001b[0m\n",
      "\u001b[1;32mpandas\\_libs\\hashtable_class_helper.pxi\u001b[0m in \u001b[0;36mpandas._libs.hashtable.PyObjectHashTable.get_item\u001b[1;34m()\u001b[0m\n",
      "\u001b[1;32mpandas\\_libs\\hashtable_class_helper.pxi\u001b[0m in \u001b[0;36mpandas._libs.hashtable.PyObjectHashTable.get_item\u001b[1;34m()\u001b[0m\n",
      "\u001b[1;31mKeyError\u001b[0m: (1, 1)"
     ]
    }
   ],
   "source": [
    "train[1,1] \n"
>>>>>>> d026f74... 1
   ]
  },
  {
   "cell_type": "code",
   "execution_count": null,
   "metadata": {},
   "outputs": [],
<<<<<<< HEAD
   "source": [
    "# now let's make a model that predicts the nationality of dishes\n",
    "\n",
    "from sklearn.ensemble import RandomForestClassifier\n",
    "from sklearn.ensemble import VotingClassifier\n",
    "from sklearn.linear_model import LogisticRegression\n",
    "from sklearn.svm import SVC\n",
    "\n",
    "# soft voting, compute probabilites and use them as weights\n",
    "log_clf = LogisticRegression(random_state=42)\n",
    "rnd_clf = RandomForestClassifier(random_state=42)\n",
    "svm_clf = SVC(probability=True, random_state=42)\n",
    "\n",
    "voting_clf = VotingClassifier(\n",
    "    estimators=[('lr', log_clf), ('rf', rnd_clf), ('svc', svm_clf)],\n",
    "    voting='soft')\n",
    "voting_clf.fit(X2D, y)\n",
    "\n"
   ]
=======
   "source": []
>>>>>>> d026f74... 1
  },
  {
   "cell_type": "code",
   "execution_count": null,
   "metadata": {},
   "outputs": [],
   "source": []
  },
  {
   "cell_type": "code",
   "execution_count": null,
   "metadata": {},
   "outputs": [],
   "source": []
  }
 ],
 "metadata": {
  "kernelspec": {
   "display_name": "Python 3",
   "language": "python",
   "name": "python3"
  },
  "language_info": {
   "codemirror_mode": {
    "name": "ipython",
    "version": 3
   },
   "file_extension": ".py",
   "mimetype": "text/x-python",
   "name": "python",
   "nbconvert_exporter": "python",
   "pygments_lexer": "ipython3",
<<<<<<< HEAD
   "version": "3.6.4"
=======
   "version": "3.6.3"
>>>>>>> d026f74... 1
  }
 },
 "nbformat": 4,
 "nbformat_minor": 2
}
