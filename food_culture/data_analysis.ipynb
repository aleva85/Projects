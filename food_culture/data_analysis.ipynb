{
 "cells": [
  {
   "cell_type": "markdown",
   "metadata": {},
   "source": [
    "# Practising visaulization and ML on a food dataset\n",
    "\n",
    "this script is a readaptation of Brice's kernel on the \"what's cooking?\" dataset from Kaggle\n",
    "\n"
   ]
  },
  {
   "cell_type": "code",
   "execution_count": 56,
   "metadata": {},
   "outputs": [
    {
     "data": {
      "text/html": [
       "<div>\n",
       "<style>\n",
       "    .dataframe thead tr:only-child th {\n",
       "        text-align: right;\n",
       "    }\n",
       "\n",
       "    .dataframe thead th {\n",
       "        text-align: left;\n",
       "    }\n",
       "\n",
       "    .dataframe tbody tr th {\n",
       "        vertical-align: top;\n",
       "    }\n",
       "</style>\n",
       "<table border=\"1\" class=\"dataframe\">\n",
       "  <thead>\n",
       "    <tr style=\"text-align: right;\">\n",
       "      <th></th>\n",
       "      <th>cuisine</th>\n",
       "      <th>id</th>\n",
       "      <th>ingredients</th>\n",
       "    </tr>\n",
       "  </thead>\n",
       "  <tbody>\n",
       "    <tr>\n",
       "      <th>0</th>\n",
       "      <td>greek</td>\n",
       "      <td>10259</td>\n",
       "      <td>[romaine lettuce, black olives, grape tomatoes...</td>\n",
       "    </tr>\n",
       "    <tr>\n",
       "      <th>1</th>\n",
       "      <td>southern_us</td>\n",
       "      <td>25693</td>\n",
       "      <td>[plain flour, ground pepper, salt, tomatoes, g...</td>\n",
       "    </tr>\n",
       "    <tr>\n",
       "      <th>2</th>\n",
       "      <td>filipino</td>\n",
       "      <td>20130</td>\n",
       "      <td>[eggs, pepper, salt, mayonaise, cooking oil, g...</td>\n",
       "    </tr>\n",
       "    <tr>\n",
       "      <th>3</th>\n",
       "      <td>indian</td>\n",
       "      <td>22213</td>\n",
       "      <td>[water, vegetable oil, wheat, salt]</td>\n",
       "    </tr>\n",
       "    <tr>\n",
       "      <th>4</th>\n",
       "      <td>indian</td>\n",
       "      <td>13162</td>\n",
       "      <td>[black pepper, shallots, cornflour, cayenne pe...</td>\n",
       "    </tr>\n",
       "  </tbody>\n",
       "</table>\n",
       "</div>"
      ],
      "text/plain": [
       "       cuisine     id                                        ingredients\n",
       "0        greek  10259  [romaine lettuce, black olives, grape tomatoes...\n",
       "1  southern_us  25693  [plain flour, ground pepper, salt, tomatoes, g...\n",
       "2     filipino  20130  [eggs, pepper, salt, mayonaise, cooking oil, g...\n",
       "3       indian  22213                [water, vegetable oil, wheat, salt]\n",
       "4       indian  13162  [black pepper, shallots, cornflour, cayenne pe..."
      ]
     },
     "execution_count": 56,
     "metadata": {},
     "output_type": "execute_result"
    }
   ],
   "source": [
    "import pandas as pd\n",
    "import matplotlib.pyplot as plt\n",
    "\n",
    "train_df = pd.read_json('train.json')\n",
    "train_df.head()"
   ]
  },
  {
   "cell_type": "code",
   "execution_count": 63,
   "metadata": {},
   "outputs": [
    {
     "data": {
      "image/png": "[encoded data removed]",
      "text/plain": [
       "<matplotlib.figure.Figure at 0x10b5aa90>"
      ]
     },
     "metadata": {},
     "output_type": "display_data"
    }
   ],
   "source": [
    "ax = train_df['cuisine'].value_counts().plot(kind = 'bar', \n",
    "                                             title = \"Cuisine types\", \n",
    "                                             figsize = (8, 3), \n",
    "                                             legend = False)\n",
    "ax.set_ylabel(\"recipes\", fontsize=12)\n",
    "plt.show()"
   ]
  },
  {
   "cell_type": "markdown",
   "metadata": {},
   "source": [
    "##### note that some cuisines are more frequent than others\n",
    "this could be an issue when training and testing classification and regression models. consider stratified sampling"
   ]
  },
  {
   "cell_type": "code",
   "execution_count": 79,
   "metadata": {},
   "outputs": [
    {
     "data": {
      "image/png": "[encoded data removed]",
      "text/plain": [
       "<matplotlib.figure.Figure at 0xc7eac88>"
      ]
     },
     "metadata": {},
     "output_type": "display_data"
    }
   ],
   "source": [
    "from sklearn.model_selection import StratifiedShuffleSplit\n",
    "\n",
    "# first, select a stratified random sample of the data (10%), so it doesn't take ages...\n",
    "# I will use the StratifiedShuffleSplit method, not sure there is something more appropriate\n",
    "split = StratifiedShuffleSplit(n_splits = 1, test_size = .9, random_state = 42)\n",
    "for keep_idx, drop_idx in split.split(train_df, train_df['cuisine']): # guarantee that ratios of cuisine are respected\n",
    "    small_dataset = train_df.iloc[keep_idx]\n",
    "\n",
    "# graphically check that dataset is reduced to 10%, and ratios are maintained\n",
    "figure, (ax1, ax2) = plt.subplots(1,2)\n",
    "train_df['cuisine'].value_counts().plot(ax = ax1, kind='bar', title =\"Cuisine types\", figsize=(15, 3), legend=True, fontsize=12)\n",
    "small_dataset['cuisine'].value_counts().plot(ax = ax2, kind='bar', title =\"Cuisine types\", figsize=(15, 3), legend=True, fontsize=12)\n",
    "plt.show()"
   ]
  },
  {
   "cell_type": "code",
   "execution_count": 81,
   "metadata": {},
   "outputs": [
    {
     "data": {
      "text/html": [
       "<div>\n",
       "<style>\n",
       "    .dataframe thead tr:only-child th {\n",
       "        text-align: right;\n",
       "    }\n",
       "\n",
       "    .dataframe thead th {\n",
       "        text-align: left;\n",
       "    }\n",
       "\n",
       "    .dataframe tbody tr th {\n",
       "        vertical-align: top;\n",
       "    }\n",
       "</style>\n",
       "<table border=\"1\" class=\"dataframe\">\n",
       "  <thead>\n",
       "    <tr style=\"text-align: right;\">\n",
       "      <th></th>\n",
       "      <th>cuisine</th>\n",
       "      <th>id</th>\n",
       "      <th>ingredients</th>\n",
       "    </tr>\n",
       "  </thead>\n",
       "  <tbody>\n",
       "    <tr>\n",
       "      <th>33026</th>\n",
       "      <td>filipino</td>\n",
       "      <td>27332</td>\n",
       "      <td>[ground chicken, water chestnuts, kinchay, gla...</td>\n",
       "    </tr>\n",
       "    <tr>\n",
       "      <th>20682</th>\n",
       "      <td>greek</td>\n",
       "      <td>46639</td>\n",
       "      <td>[eggs, milk, garlic, plum tomatoes, water, but...</td>\n",
       "    </tr>\n",
       "    <tr>\n",
       "      <th>33645</th>\n",
       "      <td>italian</td>\n",
       "      <td>14827</td>\n",
       "      <td>[seasoned bread crumbs, large eggs, olive oil,...</td>\n",
       "    </tr>\n",
       "    <tr>\n",
       "      <th>24862</th>\n",
       "      <td>french</td>\n",
       "      <td>16418</td>\n",
       "      <td>[unsweetened cocoa powder, extract, dark choco...</td>\n",
       "    </tr>\n",
       "    <tr>\n",
       "      <th>26538</th>\n",
       "      <td>italian</td>\n",
       "      <td>8933</td>\n",
       "      <td>[eggs, salt, frozen chopped spinach, ricotta c...</td>\n",
       "    </tr>\n",
       "  </tbody>\n",
       "</table>\n",
       "</div>"
      ],
      "text/plain": [
       "        cuisine     id                                        ingredients\n",
       "33026  filipino  27332  [ground chicken, water chestnuts, kinchay, gla...\n",
       "20682     greek  46639  [eggs, milk, garlic, plum tomatoes, water, but...\n",
       "33645   italian  14827  [seasoned bread crumbs, large eggs, olive oil,...\n",
       "24862    french  16418  [unsweetened cocoa powder, extract, dark choco...\n",
       "26538   italian   8933  [eggs, salt, frozen chopped spinach, ricotta c..."
      ]
     },
     "execution_count": 81,
     "metadata": {},
     "output_type": "execute_result"
    }
   ],
   "source": [
    "# now, devide the small dataset in train and test sets (80/20 ratio), again with stratified sampling\n",
    "split = StratifiedShuffleSplit(n_splits = 1, test_size = .2, random_state = 42)\n",
    "for train_idx, test_idx in split.split(small_dataset, small_dataset['cuisine']): \n",
    "    X_train = small_dataset.iloc[train_idx]\n",
    "    X_test = small_dataset.iloc[test_idx]\n"
   ]
  },
  {
   "cell_type": "markdown",
   "metadata": {},
   "source": [
    "### now the machine learning part\n",
    "First, we make a matrix that, for every recipe (row) and for every ingredient (col),\n",
    "there is 1 if the recipe uses that ingredient, and 0 otherwise."
   ]
  },
  {
   "cell_type": "code",
   "execution_count": null,
   "metadata": {},
   "outputs": [],
   "source": [
    "import numpy as np\n",
    "# first, find a unique list of ingredients and cuisines\n",
    "ingredients = []\n",
    "print(small_dataset.head())\n",
    "[ingredients.extend(X_train.iloc[recipe].ingredients) for recipe in range(len(X_train))]\n",
    "ingredients = list(set(ingredients))\n",
    "cuisines = X_train['cuisine'].unique()\n",
    "    \n",
    "# now create the matrix. this won't scale up very well, we should think about more efficient solutions\n",
    "X = np.zeros(shape = (len(X_train), len(ingredients)))\n",
    "for recipe in range(len(X_train)):\n",
    "    for ingredient in range(len(ingredients)):\n",
    "        X[recipe,ingredient] = 1 if ingredients[ingredient] in X_train.iloc[recipe].ingredients else 0\n",
    "   "
   ]
  },
  {
   "cell_type": "code",
   "execution_count": 97,
   "metadata": {},
   "outputs": [
    {
     "ename": "TypeError",
     "evalue": "int() argument must be a string, a bytes-like object or a number, not 'dict_values'",
     "output_type": "error",
     "traceback": [
      "\u001b[1;31m---------------------------------------------------------------------------\u001b[0m",
      "\u001b[1;31mTypeError\u001b[0m                                 Traceback (most recent call last)",
      "\u001b[1;32m<ipython-input-97-ec8a0aa35ec7>\u001b[0m in \u001b[0;36m<module>\u001b[1;34m()\u001b[0m\n\u001b[0;32m      2\u001b[0m \u001b[1;32mfrom\u001b[0m \u001b[0mcollections\u001b[0m \u001b[1;32mimport\u001b[0m \u001b[0mCounter\u001b[0m\u001b[1;33m\u001b[0m\u001b[0m\n\u001b[0;32m      3\u001b[0m \u001b[0mcounts\u001b[0m \u001b[1;33m=\u001b[0m \u001b[0mCounter\u001b[0m\u001b[1;33m(\u001b[0m\u001b[0mingredients\u001b[0m\u001b[1;33m)\u001b[0m\u001b[1;33m\u001b[0m\u001b[0m\n\u001b[1;32m----> 4\u001b[1;33m \u001b[0mcounts\u001b[0m\u001b[1;33m.\u001b[0m\u001b[0mkeys\u001b[0m\u001b[1;33m(\u001b[0m\u001b[1;33m)\u001b[0m\u001b[1;33m[\u001b[0m\u001b[0mint\u001b[0m\u001b[1;33m(\u001b[0m\u001b[0mcounts\u001b[0m\u001b[1;33m.\u001b[0m\u001b[0mvalues\u001b[0m\u001b[1;33m(\u001b[0m\u001b[1;33m)\u001b[0m\u001b[1;33m)\u001b[0m \u001b[1;33m>\u001b[0m \u001b[1;36m1\u001b[0m\u001b[1;33m]\u001b[0m\u001b[1;33m\u001b[0m\u001b[0m\n\u001b[0m\u001b[0;32m      5\u001b[0m \u001b[1;33m\u001b[0m\u001b[0m\n\u001b[0;32m      6\u001b[0m \u001b[1;33m\u001b[0m\u001b[0m\n",
      "\u001b[1;31mTypeError\u001b[0m: int() argument must be a string, a bytes-like object or a number, not 'dict_values'"
     ]
    }
   ],
   "source": [
    "# here an alternative solution that makes computation times more manageable: get rid of less frequent ingredients\n",
    "from collections import Counter\n",
    "counts = Counter(ingredients)\n",
    "counts.keys()[int(counts.values()) > 1]\n",
    "\n",
    "\n"
   ]
  },
  {
   "cell_type": "code",
   "execution_count": null,
   "metadata": {
    "collapsed": true
   },
   "outputs": [],
   "source": []
  }
 ],
 "metadata": {
  "kernelspec": {
   "display_name": "Python 3",
   "language": "python",
   "name": "python3"
  },
  "language_info": {
   "codemirror_mode": {
    "name": "ipython",
    "version": 3
   },
   "file_extension": ".py",
   "mimetype": "text/x-python",
   "name": "python",
   "nbconvert_exporter": "python",
   "pygments_lexer": "ipython3",
   "version": "3.6.3"
  }
 },
 "nbformat": 4,
 "nbformat_minor": 2
}
