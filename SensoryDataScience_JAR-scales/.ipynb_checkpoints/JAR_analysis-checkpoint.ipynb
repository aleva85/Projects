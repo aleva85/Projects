{
 "cells": [
  {
   "cell_type": "markdown",
   "metadata": {},
   "source": [
    "# Just About Right scales and penalty analysis\n",
    "\n",
    "Just about right (JAR) scales measure the appropriateness of the level of a specific attribute, and are used to determine the optimum levels of attributes in a product.\n",
    "when JAR data are collected together with Preference data (or liking scores, or hedonic judgements), a penalty analysis can provide directional information for product reformulation or optimization.\n",
    "\n",
    "In this example, I will analyise a survey where a brand of potato chips has been evaluated by 150 consumers. Each consumer gave his opinion on JAR scale (1 to 5, with 1 being \"not enough\", 3 being \"just about right\", and 5 beeing \"far too much\") for four attributes (Saltiness, Sweetness, Acidity, Crunchiness), and then gave an overall liking score on a 1-10 liking scale.\n",
    "\n",
    "The dataset can be downloaded from here : https://help.xlstat.com/customer/en/portal/articles/2062259-penalty-analysis-in-excel-tutorial?b_id=9283\n"
   ]
  },
  {
   "cell_type": "code",
   "execution_count": 3,
   "metadata": {},
   "outputs": [
    {
     "name": "stdout",
     "output_type": "stream",
     "text": [
      "   Liking scores  Saltiness  Sweetness  Acidity  Crunchiness\n",
      "0              8          3          3        4            3\n",
      "1              3          2          2        4            3\n",
      "2              3          2          4        2            2\n",
      "3              7          5          2        3            3\n",
      "4              4          4          2        5            2\n",
      "5              7          4          4        4            3\n",
      "6              7          1          5        2            2\n",
      "7              8          3          4        2            3\n",
      "8              4          2          4        5            4\n",
      "9              8          3          4        4            3\n"
     ]
    }
   ],
   "source": [
    "import pandas as pd\n",
    "\n",
    "df = pd.read_table('data1.csv',delimiter = ';')\n",
    "print(df.head(10))\n"
   ]
  },
  {
   "cell_type": "code",
   "execution_count": 5,
   "metadata": {},
   "outputs": [
    {
     "data": {
      "text/plain": [
       "150"
      ]
     },
     "execution_count": 5,
     "metadata": {},
     "output_type": "execute_result"
    }
   ],
   "source": [
    "import seaborn as sns\n",
    "sns.set()\n",
    "df.Saltiness.count()\n",
    "#('App').T.plot(kind='bar', stacked=True)"
   ]
  },
  {
   "cell_type": "code",
   "execution_count": null,
   "metadata": {},
   "outputs": [],
   "source": []
  }
 ],
 "metadata": {
  "kernelspec": {
   "display_name": "Python 3",
   "language": "python",
   "name": "python3"
  },
  "language_info": {
   "codemirror_mode": {
    "name": "ipython",
    "version": 3
   },
   "file_extension": ".py",
   "mimetype": "text/x-python",
   "name": "python",
   "nbconvert_exporter": "python",
   "pygments_lexer": "ipython3",
   "version": "3.6.3"
  }
 },
 "nbformat": 4,
 "nbformat_minor": 2
}
